{
 "cells": [
  {
   "cell_type": "markdown",
   "id": "514e19d9",
   "metadata": {},
   "source": [
    "# 집에서도 깃 환경 세팅"
   ]
  },
  {
   "cell_type": "markdown",
   "id": "bef3da53",
   "metadata": {},
   "source": []
  },
  {
   "cell_type": "code",
   "execution_count": null,
   "id": "1d6bae24",
   "metadata": {},
   "outputs": [],
   "source": [
    "adsfdgfhg"
   ]
  }
 ],
 "metadata": {
  "kernelspec": {
   "display_name": "hipython",
   "language": "python",
   "name": "python3"
  },
  "language_info": {
   "name": "python",
   "version": "3.12.9"
  }
 },
 "nbformat": 4,
 "nbformat_minor": 5
}
