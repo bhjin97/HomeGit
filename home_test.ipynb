{
 "cells": [
  {
   "cell_type": "markdown",
   "id": "514e19d9",
   "metadata": {},
   "source": [
    "# 집에서도 깃 환경 세팅"
   ]
  },
  {
   "cell_type": "code",
   "execution_count": null,
   "id": "fb2ba692",
   "metadata": {},
   "outputs": [],
   "source": [
    "import numpy as np"
   ]
  },
  {
   "cell_type": "code",
   "execution_count": 2,
   "id": "65ac33a1",
   "metadata": {},
   "outputs": [],
   "source": [
    "arr=np.arange(36).reshape((6,6))"
   ]
  },
  {
   "cell_type": "code",
   "execution_count": 3,
   "id": "3235b482",
   "metadata": {},
   "outputs": [
    {
     "data": {
      "text/plain": [
       "array([[ 0,  1,  2,  3,  4,  5],\n",
       "       [ 6,  7,  8,  9, 10, 11],\n",
       "       [12, 13, 14, 15, 16, 17],\n",
       "       [18, 19, 20, 21, 22, 23],\n",
       "       [24, 25, 26, 27, 28, 29],\n",
       "       [30, 31, 32, 33, 34, 35]])"
      ]
     },
     "execution_count": 3,
     "metadata": {},
     "output_type": "execute_result"
    }
   ],
   "source": [
    "arr"
   ]
  },
  {
   "cell_type": "code",
   "execution_count": 4,
   "id": "23c5930f",
   "metadata": {},
   "outputs": [],
   "source": [
    "arr2=np.array([[[ 0,  1,  2,  3,  4,  5],\n",
    "                [ 6,  7,  8,  9, 10, 11],\n",
    "                [12, 13, 14, 15, 16, 17],\n",
    "                [18, 19, 20, 21, 22, 23],\n",
    "                [24, 25, 26, 27, 28, 29],\n",
    "                [30, 31, 32, 33, 34, 35]],\n",
    "                [[ 0,  1,  2,  3,  4,  5],\n",
    "                [ 6,  7,  8,  9, 10, 11],\n",
    "                [12, 13, 14, 15, 16, 17],\n",
    "                [18, 19, 20, 21, 22, 23],\n",
    "                [24, 25, 26, 27, 28, 29],\n",
    "                [30, 31, 32, 33, 34, 35]],\n",
    "                [[ 0,  1,  2,  3,  4,  5],\n",
    "                [ 6,  7,  8,  9, 10, 11],\n",
    "                [12, 13, 14, 15, 16, 17],\n",
    "                [18, 19, 20, 21, 22, 23],\n",
    "                [24, 25, 26, 27, 28, 29],\n",
    "                [30, 31, 32, 33, 34, 35]],\n",
    "                [[ 0,  1,  2,  3,  4,  5],\n",
    "                [ 6,  7,  8,  9, 10, 11],\n",
    "                [12, 13, 14, 15, 16, 17],\n",
    "                [18, 19, 20, 21, 22, 23],\n",
    "                [24, 25, 26, 27, 28, 29],\n",
    "                [30, 31, 32, 33, 34, 35]]])"
   ]
  },
  {
   "cell_type": "code",
   "execution_count": 5,
   "id": "e75c2068",
   "metadata": {},
   "outputs": [
    {
     "data": {
      "text/plain": [
       "array([[[ 0,  1,  2,  3,  4,  5],\n",
       "        [ 6,  7,  8,  9, 10, 11],\n",
       "        [12, 13, 14, 15, 16, 17],\n",
       "        [18, 19, 20, 21, 22, 23],\n",
       "        [24, 25, 26, 27, 28, 29],\n",
       "        [30, 31, 32, 33, 34, 35]],\n",
       "\n",
       "       [[ 0,  1,  2,  3,  4,  5],\n",
       "        [ 6,  7,  8,  9, 10, 11],\n",
       "        [12, 13, 14, 15, 16, 17],\n",
       "        [18, 19, 20, 21, 22, 23],\n",
       "        [24, 25, 26, 27, 28, 29],\n",
       "        [30, 31, 32, 33, 34, 35]],\n",
       "\n",
       "       [[ 0,  1,  2,  3,  4,  5],\n",
       "        [ 6,  7,  8,  9, 10, 11],\n",
       "        [12, 13, 14, 15, 16, 17],\n",
       "        [18, 19, 20, 21, 22, 23],\n",
       "        [24, 25, 26, 27, 28, 29],\n",
       "        [30, 31, 32, 33, 34, 35]],\n",
       "\n",
       "       [[ 0,  1,  2,  3,  4,  5],\n",
       "        [ 6,  7,  8,  9, 10, 11],\n",
       "        [12, 13, 14, 15, 16, 17],\n",
       "        [18, 19, 20, 21, 22, 23],\n",
       "        [24, 25, 26, 27, 28, 29],\n",
       "        [30, 31, 32, 33, 34, 35]]])"
      ]
     },
     "execution_count": 5,
     "metadata": {},
     "output_type": "execute_result"
    }
   ],
   "source": [
    "arr2"
   ]
  },
  {
   "cell_type": "code",
   "execution_count": 9,
   "id": "4d9db1cd",
   "metadata": {},
   "outputs": [
    {
     "data": {
      "text/plain": [
       "array([[ 9, 10],\n",
       "       [15, 16],\n",
       "       [21, 22],\n",
       "       [27, 28]])"
      ]
     },
     "execution_count": 9,
     "metadata": {},
     "output_type": "execute_result"
    }
   ],
   "source": [
    "arr2[-1,1:5,3:5]"
   ]
  },
  {
   "cell_type": "markdown",
   "id": "1ff38310",
   "metadata": {},
   "source": [
    "## 클래스, 인스턴스 스태틱 메소드의 이해\n",
    "- 인스턴스: 각 붕어빵에 대한 설정\n",
    "- 클래스: 붕어빵 가게에 대한 설정(class 자체에 적용)\n",
    "- 스태틱:붕어빵과 관련없는 독립적인 설정"
   ]
  },
  {
   "cell_type": "code",
   "execution_count": 10,
   "id": "2207b30e",
   "metadata": {},
   "outputs": [
    {
     "name": "stdout",
     "output_type": "stream",
     "text": [
      "--- 붕어빵 가게 운영 시작! ---\n",
      "☀️ 좋은 아침입니다! 따끈한 붕어빵으로 하루를 시작하세요!\n",
      "🥤 더운 날씨에는 시원한 식혜가 최고죠!\n",
      "------------------------------\n",
      "📢 오늘의 특별 붕어빵 속재료가 '김치'(으)로 변경되었습니다!\n",
      "📈 현재까지 저희 가게에서 총 1개의 붕어빵을 만들었습니다.\n",
      "------------------------------\n",
      "✨ 저는 팥 붕어빵입니다.\n",
      "😋 음~ 팥 붕어빵을 맛있게 먹었습니다!\n",
      "✨ 저는 슈크림 붕어빵입니다.\n",
      "😋 음~ 슈크림 붕어빵을 맛있게 먹었습니다!\n",
      "------------------------------\n",
      "📈 현재까지 저희 가게에서 총 3개의 붕어빵을 만들었습니다.\n",
      "\n",
      "--- 붕어빵 가게 운영 종료! ---\n"
     ]
    }
   ],
   "source": [
    "class BungeoppangShop:\n",
    "    \"\"\"\n",
    "    붕어빵 가게를 나타내는 클래스입니다.\n",
    "    이 클래스는 붕어빵을 만들고, 가게의 전반적인 운영을 관리합니다.\n",
    "    \"\"\"\n",
    "    \n",
    "    # -----------------------------------------------------\n",
    "    # 1. 클래스 변수: 모든 붕어빵 인스턴스가 공유하는 정보\n",
    "    # -----------------------------------------------------\n",
    "    total_bungeoppang_made = 0  # 가게에서 총 몇 개의 붕어빵을 만들었는지 기록 (클래스 전체의 데이터)\n",
    "    todays_special_filling = \"팥\" # 오늘의 특별 붕어빵 속재료 (클래스 전체의 설정)\n",
    "\n",
    "    # -----------------------------------------------------\n",
    "    # 2. 인스턴스 메소드: 개별 붕어빵 인스턴스에 대한 동작\n",
    "    # -----------------------------------------------------\n",
    "    def __init__(self, filling):\n",
    "        \"\"\"\n",
    "        새로운 붕어빵 인스턴스를 만들 때 호출됩니다.\n",
    "        각 붕어빵은 자신만의 'filling' 속성을 가집니다.\n",
    "        \"\"\"\n",
    "        self.filling = filling  # 이 붕어빵의 속재료 (인스턴스 고유의 데이터)\n",
    "        BungeoppangShop.total_bungeoppang_made += 1 # 붕어빵 만들 때마다 총 개수 증가\n",
    "\n",
    "    def eat(self):\n",
    "        \"\"\"\n",
    "        이 붕어빵을 먹는 행위를 나타냅니다.\n",
    "        'self'를 통해 인스턴스 고유의 'filling'에 접근합니다.\n",
    "        \"\"\"\n",
    "        return f\"😋 음~ {self.filling} 붕어빵을 맛있게 먹었습니다!\"\n",
    "\n",
    "    def get_my_info(self):\n",
    "        \"\"\"\n",
    "        이 붕어빵 인스턴스의 정보를 반환합니다.\n",
    "        \"\"\"\n",
    "        return f\"✨ 저는 {self.filling} 붕어빵입니다.\"\n",
    "\n",
    "    # -----------------------------------------------------\n",
    "    # 3. 클래스 메소드: 붕어빵 가게(클래스) 전체에 대한 동작\n",
    "    # -----------------------------------------------------\n",
    "    @classmethod\n",
    "    def set_special(cls, new_special_filling):\n",
    "        \"\"\"\n",
    "        오늘의 특별 붕어빵 속재료를 설정합니다.\n",
    "        'cls'를 통해 클래스 변수인 'todays_special_filling'에 접근하고 변경합니다.\n",
    "        새로운 특별 붕어빵 인스턴스를 반환할 수도 있습니다.\n",
    "        \"\"\"\n",
    "        cls.todays_special_filling = new_special_filling\n",
    "        print(f\"📢 오늘의 특별 붕어빵 속재료가 '{cls.todays_special_filling}'(으)로 변경되었습니다!\")\n",
    "        # 클래스를 통해 새로운 붕어빵 인스턴스를 만들 수 있습니다.\n",
    "        return cls(cls.todays_special_filling) \n",
    "\n",
    "    @classmethod\n",
    "    def get_shop_total_made(cls):\n",
    "        \"\"\"\n",
    "        가게에서 지금까지 만든 총 붕어빵 개수를 알려줍니다.\n",
    "        'cls'를 통해 클래스 변수인 'total_bungeoppang_made'에 접근합니다.\n",
    "        \"\"\"\n",
    "        return f\"📈 현재까지 저희 가게에서 총 {cls.total_bungeoppang_made}개의 붕어빵을 만들었습니다.\"\n",
    "\n",
    "    # -----------------------------------------------------\n",
    "    # 4. 정적 메소드: 붕어빵이나 가게와 직접적인 관련 없는 유틸리티 기능\n",
    "    # -----------------------------------------------------\n",
    "    @staticmethod\n",
    "    def display_welcome_message(time_of_day):\n",
    "        \"\"\"\n",
    "        시간대에 따라 다른 환영 메시지를 표시합니다.\n",
    "        붕어빵 인스턴스나 가게의 상태(self, cls)에 의존하지 않습니다.\n",
    "        \"\"\"\n",
    "        if time_of_day.lower() == \"morning\":\n",
    "            return \"☀️ 좋은 아침입니다! 따끈한 붕어빵으로 하루를 시작하세요!\"\n",
    "        elif time_of_day.lower() == \"evening\":\n",
    "            return \"🌙 저녁입니다! 출출할 때 갓 구운 붕어빵 어떠세요?\"\n",
    "        else:\n",
    "            return \"👋 붕어빵 가게에 오신 것을 환영합니다!\"\n",
    "\n",
    "    @staticmethod\n",
    "    def recommend_drink(temperature):\n",
    "        \"\"\"\n",
    "        날씨 온도에 따라 추천 음료를 알려줍니다.\n",
    "        가게나 붕어빵의 속성과는 무관한 독립적인 조언입니다.\n",
    "        \"\"\"\n",
    "        if temperature > 25:\n",
    "            return \"🥤 더운 날씨에는 시원한 식혜가 최고죠!\"\n",
    "        else:\n",
    "            return \"☕ 쌀쌀한 날씨에는 따뜻한 아메리카노가 붕어빵과 잘 어울려요!\"\n",
    "\n",
    "# -----------------------------------------------------\n",
    "# 메소드 사용 예시\n",
    "# -----------------------------------------------------\n",
    "\n",
    "print(\"--- 붕어빵 가게 운영 시작! ---\")\n",
    "\n",
    "# 1. 정적 메소드 사용 예시 (가게나 붕어빵과 무관한 유틸리티)\n",
    "print(BungeoppangShop.display_welcome_message(\"morning\"))\n",
    "print(BungeoppangShop.recommend_drink(28))\n",
    "print(\"-\" * 30)\n",
    "\n",
    "# 2. 클래스 메소드 사용 예시 (가게 전체의 설정 변경 및 정보 확인)\n",
    "# 오늘의 특별 붕어빵을 김치맛으로 설정하고, 그 붕어빵을 받습니다.\n",
    "special_bp = BungeoppangShop.set_special(\"김치\") \n",
    "# 클래스 메소드를 통해 현재까지 만들어진 붕어빵 개수를 확인합니다.\n",
    "print(BungeoppangShop.get_shop_total_made()) \n",
    "print(\"-\" * 30)\n",
    "\n",
    "# 3. 인스턴스 메소드 사용 예시 (개별 붕어빵 다루기)\n",
    "# 일반 팥 붕어빵과 슈크림 붕어빵을 만듭니다.\n",
    "red_bean_bp = BungeoppangShop(\"팥\")\n",
    "custard_bp = BungeoppangShop(\"슈크림\")\n",
    "\n",
    "# 각 붕어빵 인스턴스의 메소드를 호출합니다.\n",
    "print(red_bean_bp.get_my_info())\n",
    "print(red_bean_bp.eat())\n",
    "print(custard_bp.get_my_info())\n",
    "print(custard_bp.eat())\n",
    "print(\"-\" * 30)\n",
    "\n",
    "# 4. 다시 클래스 메소드로 총 붕어빵 개수 확인\n",
    "# 위에서 3개(김치, 팥, 슈크림)의 붕어빵이 더 만들어졌으므로, 총 개수가 증가합니다.\n",
    "print(BungeoppangShop.get_shop_total_made())\n",
    "\n",
    "print(\"\\n--- 붕어빵 가게 운영 종료! ---\")"
   ]
  },
  {
   "cell_type": "code",
   "execution_count": null,
   "id": "c0e507e9",
   "metadata": {},
   "outputs": [],
   "source": []
  }
 ],
 "metadata": {
  "kernelspec": {
   "display_name": "hipython=3.12",
   "language": "python",
   "name": "python3"
  },
  "language_info": {
   "codemirror_mode": {
    "name": "ipython",
    "version": 3
   },
   "file_extension": ".py",
   "mimetype": "text/x-python",
   "name": "python",
   "nbconvert_exporter": "python",
   "pygments_lexer": "ipython3",
   "version": "3.13.2"
  }
 },
 "nbformat": 4,
 "nbformat_minor": 5
}
