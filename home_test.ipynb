{
 "cells": [
  {
   "cell_type": "markdown",
   "id": "514e19d9",
   "metadata": {},
   "source": [
    "# 집에서도 깃 환경 세팅"
   ]
  },
  {
   "cell_type": "code",
   "execution_count": 1,
   "id": "fb2ba692",
   "metadata": {},
   "outputs": [],
   "source": [
    "import numpy as np"
   ]
  },
  {
   "cell_type": "code",
   "execution_count": 2,
   "id": "65ac33a1",
   "metadata": {},
   "outputs": [],
   "source": [
    "arr=np.arange(36).reshape((6,6))"
   ]
  },
  {
   "cell_type": "code",
   "execution_count": 3,
   "id": "3235b482",
   "metadata": {},
   "outputs": [
    {
     "data": {
      "text/plain": [
       "array([[ 0,  1,  2,  3,  4,  5],\n",
       "       [ 6,  7,  8,  9, 10, 11],\n",
       "       [12, 13, 14, 15, 16, 17],\n",
       "       [18, 19, 20, 21, 22, 23],\n",
       "       [24, 25, 26, 27, 28, 29],\n",
       "       [30, 31, 32, 33, 34, 35]])"
      ]
     },
     "execution_count": 3,
     "metadata": {},
     "output_type": "execute_result"
    }
   ],
   "source": [
    "arr"
   ]
  },
  {
   "cell_type": "code",
   "execution_count": 4,
   "id": "23c5930f",
   "metadata": {},
   "outputs": [],
   "source": [
    "arr2=np.array([[[ 0,  1,  2,  3,  4,  5],\n",
    "                [ 6,  7,  8,  9, 10, 11],\n",
    "                [12, 13, 14, 15, 16, 17],\n",
    "                [18, 19, 20, 21, 22, 23],\n",
    "                [24, 25, 26, 27, 28, 29],\n",
    "                [30, 31, 32, 33, 34, 35]],\n",
    "                [[ 0,  1,  2,  3,  4,  5],\n",
    "                [ 6,  7,  8,  9, 10, 11],\n",
    "                [12, 13, 14, 15, 16, 17],\n",
    "                [18, 19, 20, 21, 22, 23],\n",
    "                [24, 25, 26, 27, 28, 29],\n",
    "                [30, 31, 32, 33, 34, 35]],\n",
    "                [[ 0,  1,  2,  3,  4,  5],\n",
    "                [ 6,  7,  8,  9, 10, 11],\n",
    "                [12, 13, 14, 15, 16, 17],\n",
    "                [18, 19, 20, 21, 22, 23],\n",
    "                [24, 25, 26, 27, 28, 29],\n",
    "                [30, 31, 32, 33, 34, 35]],\n",
    "                [[ 0,  1,  2,  3,  4,  5],\n",
    "                [ 6,  7,  8,  9, 10, 11],\n",
    "                [12, 13, 14, 15, 16, 17],\n",
    "                [18, 19, 20, 21, 22, 23],\n",
    "                [24, 25, 26, 27, 28, 29],\n",
    "                [30, 31, 32, 33, 34, 35]]])"
   ]
  },
  {
   "cell_type": "code",
   "execution_count": 5,
   "id": "e75c2068",
   "metadata": {},
   "outputs": [
    {
     "data": {
      "text/plain": [
       "array([[[ 0,  1,  2,  3,  4,  5],\n",
       "        [ 6,  7,  8,  9, 10, 11],\n",
       "        [12, 13, 14, 15, 16, 17],\n",
       "        [18, 19, 20, 21, 22, 23],\n",
       "        [24, 25, 26, 27, 28, 29],\n",
       "        [30, 31, 32, 33, 34, 35]],\n",
       "\n",
       "       [[ 0,  1,  2,  3,  4,  5],\n",
       "        [ 6,  7,  8,  9, 10, 11],\n",
       "        [12, 13, 14, 15, 16, 17],\n",
       "        [18, 19, 20, 21, 22, 23],\n",
       "        [24, 25, 26, 27, 28, 29],\n",
       "        [30, 31, 32, 33, 34, 35]],\n",
       "\n",
       "       [[ 0,  1,  2,  3,  4,  5],\n",
       "        [ 6,  7,  8,  9, 10, 11],\n",
       "        [12, 13, 14, 15, 16, 17],\n",
       "        [18, 19, 20, 21, 22, 23],\n",
       "        [24, 25, 26, 27, 28, 29],\n",
       "        [30, 31, 32, 33, 34, 35]],\n",
       "\n",
       "       [[ 0,  1,  2,  3,  4,  5],\n",
       "        [ 6,  7,  8,  9, 10, 11],\n",
       "        [12, 13, 14, 15, 16, 17],\n",
       "        [18, 19, 20, 21, 22, 23],\n",
       "        [24, 25, 26, 27, 28, 29],\n",
       "        [30, 31, 32, 33, 34, 35]]])"
      ]
     },
     "execution_count": 5,
     "metadata": {},
     "output_type": "execute_result"
    }
   ],
   "source": [
    "arr2"
   ]
  },
  {
   "cell_type": "code",
   "execution_count": 9,
   "id": "4d9db1cd",
   "metadata": {},
   "outputs": [
    {
     "data": {
      "text/plain": [
       "array([[ 9, 10],\n",
       "       [15, 16],\n",
       "       [21, 22],\n",
       "       [27, 28]])"
      ]
     },
     "execution_count": 9,
     "metadata": {},
     "output_type": "execute_result"
    }
   ],
   "source": [
    "arr2[-1,1:5,3:5]"
   ]
  },
  {
   "cell_type": "code",
   "execution_count": null,
   "id": "2207b30e",
   "metadata": {},
   "outputs": [],
   "source": []
  }
 ],
 "metadata": {
  "kernelspec": {
   "display_name": "hipython=3.12",
   "language": "python",
   "name": "python3"
  },
  "language_info": {
   "codemirror_mode": {
    "name": "ipython",
    "version": 3
   },
   "file_extension": ".py",
   "mimetype": "text/x-python",
   "name": "python",
   "nbconvert_exporter": "python",
   "pygments_lexer": "ipython3",
   "version": "3.13.5"
  }
 },
 "nbformat": 4,
 "nbformat_minor": 5
}
